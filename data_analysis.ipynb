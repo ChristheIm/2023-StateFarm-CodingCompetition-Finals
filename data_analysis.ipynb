{
 "cells": [
  {
   "cell_type": "markdown",
   "metadata": {},
   "source": [
    "# Data Anaysis Section\n",
    "---\n",
    "This section is for \"Nice to Have\" purpose for 2023-StateFarm-CodingCompetition. <br>\n",
    "The purpose of this documentation is to find insight from given dataset and scrutinize it."
   ]
  },
  {
   "cell_type": "markdown",
   "metadata": {},
   "source": [
    "## Preparation"
   ]
  },
  {
   "cell_type": "code",
   "execution_count": 28,
   "metadata": {},
   "outputs": [],
   "source": [
    "## Import libraries\n",
    "from simple_data_tool import SimpleDataTool\n",
    "\n",
    "# For Data Analysis\n",
    "import pandas as pd\n",
    "import numpy as np\n",
    "\n",
    "# For Visualization\n",
    "import matplotlib.pyplot as plt\n",
    "import seaborn as sns"
   ]
  },
  {
   "cell_type": "markdown",
   "metadata": {},
   "source": [
    "### Data Load\n",
    "Import JSON dataset into DataFrame in order to work with Python Packages"
   ]
  },
  {
   "cell_type": "code",
   "execution_count": 29,
   "metadata": {},
   "outputs": [],
   "source": [
    "# Load Agent JSON data\n",
    "agents = pd.read_json(\"data/sfcc_2023_agents.json\")\n",
    "agents.set_index('id', inplace=True) # Set the 'id' column as the index\n",
    "df_agents = pd.json_normalize(agents.to_dict(orient='records')) # Normalize the columns\n",
    "\n",
    "# Load Claim JSON data\n",
    "claims = pd.read_json(\"data/sfcc_2023_claims.json\")\n",
    "claims.set_index('id', inplace=True) # Set the 'id' column as the index\n",
    "df_claims = pd.json_normalize(claims.to_dict(orient='records')) # Normalize the columns\n",
    "\n",
    "# Load Claim Handler JSON data\n",
    "claim_handlers = pd.read_json(\"data/sfcc_2023_claim_handlers.json\")\n",
    "claim_handlers.set_index('id', inplace=True) # Set the 'id' column as the index\n",
    "df_claim_handlers = pd.json_normalize(claim_handlers.to_dict(orient='records')) # Normalize the columns\n",
    "\n",
    "# Load Disaster JSON data\n",
    "disasters = pd.read_json(\"data/sfcc_2023_disasters.json\")\n",
    "disasters.set_index('id', inplace=True) # Set the 'id' column as the index\n",
    "df_disasters = pd.json_normalize(disasters.to_dict(orient='records')) # Normalize the columns"
   ]
  },
  {
   "cell_type": "markdown",
   "metadata": {},
   "source": [
    "### Check the info for each individual dataset"
   ]
  },
  {
   "cell_type": "code",
   "execution_count": 30,
   "metadata": {},
   "outputs": [
    {
     "data": {
      "text/plain": [
       "first_name            100\n",
       "last_name             100\n",
       "state                 100\n",
       "region                100\n",
       "primary_language      100\n",
       "secondary_language     59\n",
       "years_active          100\n",
       "dtype: int64"
      ]
     },
     "execution_count": 30,
     "metadata": {},
     "output_type": "execute_result"
    }
   ],
   "source": [
    "agents.count() # count the number of each columns and missing values."
   ]
  },
  {
   "cell_type": "code",
   "execution_count": 31,
   "metadata": {},
   "outputs": [
    {
     "data": {
      "text/html": [
       "<div>\n",
       "<style scoped>\n",
       "    .dataframe tbody tr th:only-of-type {\n",
       "        vertical-align: middle;\n",
       "    }\n",
       "\n",
       "    .dataframe tbody tr th {\n",
       "        vertical-align: top;\n",
       "    }\n",
       "\n",
       "    .dataframe thead th {\n",
       "        text-align: right;\n",
       "    }\n",
       "</style>\n",
       "<table border=\"1\" class=\"dataframe\">\n",
       "  <thead>\n",
       "    <tr style=\"text-align: right;\">\n",
       "      <th></th>\n",
       "      <th>first_name</th>\n",
       "      <th>last_name</th>\n",
       "      <th>state</th>\n",
       "      <th>region</th>\n",
       "      <th>primary_language</th>\n",
       "      <th>secondary_language</th>\n",
       "      <th>years_active</th>\n",
       "    </tr>\n",
       "    <tr>\n",
       "      <th>id</th>\n",
       "      <th></th>\n",
       "      <th></th>\n",
       "      <th></th>\n",
       "      <th></th>\n",
       "      <th></th>\n",
       "      <th></th>\n",
       "      <th></th>\n",
       "    </tr>\n",
       "  </thead>\n",
       "  <tbody>\n",
       "    <tr>\n",
       "      <th>1</th>\n",
       "      <td>Catha</td>\n",
       "      <td>Abrahmer</td>\n",
       "      <td>Minnesota</td>\n",
       "      <td>Midwest</td>\n",
       "      <td>English</td>\n",
       "      <td>German</td>\n",
       "      <td>10</td>\n",
       "    </tr>\n",
       "    <tr>\n",
       "      <th>2</th>\n",
       "      <td>Yetta</td>\n",
       "      <td>Eason</td>\n",
       "      <td>Oregon</td>\n",
       "      <td>West</td>\n",
       "      <td>English</td>\n",
       "      <td>Korean</td>\n",
       "      <td>12</td>\n",
       "    </tr>\n",
       "    <tr>\n",
       "      <th>3</th>\n",
       "      <td>Janeta</td>\n",
       "      <td>D'Avaux</td>\n",
       "      <td>Connecticut</td>\n",
       "      <td>Northeast</td>\n",
       "      <td>English</td>\n",
       "      <td>None</td>\n",
       "      <td>47</td>\n",
       "    </tr>\n",
       "    <tr>\n",
       "      <th>4</th>\n",
       "      <td>Kalie</td>\n",
       "      <td>Tomkins</td>\n",
       "      <td>Virginia</td>\n",
       "      <td>South</td>\n",
       "      <td>English</td>\n",
       "      <td>None</td>\n",
       "      <td>33</td>\n",
       "    </tr>\n",
       "    <tr>\n",
       "      <th>5</th>\n",
       "      <td>Teddy</td>\n",
       "      <td>Dennitts</td>\n",
       "      <td>Illinois</td>\n",
       "      <td>Midwest</td>\n",
       "      <td>English</td>\n",
       "      <td>Chinese</td>\n",
       "      <td>48</td>\n",
       "    </tr>\n",
       "  </tbody>\n",
       "</table>\n",
       "</div>"
      ],
      "text/plain": [
       "   first_name last_name        state     region primary_language  \\\n",
       "id                                                                 \n",
       "1       Catha  Abrahmer    Minnesota    Midwest          English   \n",
       "2       Yetta     Eason       Oregon       West          English   \n",
       "3      Janeta   D'Avaux  Connecticut  Northeast          English   \n",
       "4       Kalie   Tomkins     Virginia      South          English   \n",
       "5       Teddy  Dennitts     Illinois    Midwest          English   \n",
       "\n",
       "   secondary_language  years_active  \n",
       "id                                   \n",
       "1              German            10  \n",
       "2              Korean            12  \n",
       "3                None            47  \n",
       "4                None            33  \n",
       "5             Chinese            48  "
      ]
     },
     "execution_count": 31,
     "metadata": {},
     "output_type": "execute_result"
    }
   ],
   "source": [
    "agents.head()"
   ]
  },
  {
   "cell_type": "code",
   "execution_count": 32,
   "metadata": {},
   "outputs": [
    {
     "data": {
      "text/plain": [
       "disaster_id                  1000\n",
       "status                       1000\n",
       "total_loss                   1000\n",
       "loss_of_life                 1000\n",
       "type                         1000\n",
       "severity_rating              1000\n",
       "estimate_cost                1000\n",
       "agent_assigned_id            1000\n",
       "claim_handler_assigned_id    1000\n",
       "dtype: int64"
      ]
     },
     "execution_count": 32,
     "metadata": {},
     "output_type": "execute_result"
    }
   ],
   "source": [
    "claims.count() # count the number of each columns and missing values."
   ]
  },
  {
   "cell_type": "code",
   "execution_count": 33,
   "metadata": {},
   "outputs": [
    {
     "data": {
      "text/html": [
       "<div>\n",
       "<style scoped>\n",
       "    .dataframe tbody tr th:only-of-type {\n",
       "        vertical-align: middle;\n",
       "    }\n",
       "\n",
       "    .dataframe tbody tr th {\n",
       "        vertical-align: top;\n",
       "    }\n",
       "\n",
       "    .dataframe thead th {\n",
       "        text-align: right;\n",
       "    }\n",
       "</style>\n",
       "<table border=\"1\" class=\"dataframe\">\n",
       "  <thead>\n",
       "    <tr style=\"text-align: right;\">\n",
       "      <th></th>\n",
       "      <th>disaster_id</th>\n",
       "      <th>status</th>\n",
       "      <th>total_loss</th>\n",
       "      <th>loss_of_life</th>\n",
       "      <th>type</th>\n",
       "      <th>severity_rating</th>\n",
       "      <th>estimate_cost</th>\n",
       "      <th>agent_assigned_id</th>\n",
       "      <th>claim_handler_assigned_id</th>\n",
       "    </tr>\n",
       "    <tr>\n",
       "      <th>id</th>\n",
       "      <th></th>\n",
       "      <th></th>\n",
       "      <th></th>\n",
       "      <th></th>\n",
       "      <th></th>\n",
       "      <th></th>\n",
       "      <th></th>\n",
       "      <th></th>\n",
       "      <th></th>\n",
       "    </tr>\n",
       "  </thead>\n",
       "  <tbody>\n",
       "    <tr>\n",
       "      <th>1</th>\n",
       "      <td>15</td>\n",
       "      <td>Received</td>\n",
       "      <td>False</td>\n",
       "      <td>False</td>\n",
       "      <td>Auto</td>\n",
       "      <td>4</td>\n",
       "      <td>3580.02</td>\n",
       "      <td>97</td>\n",
       "      <td>50</td>\n",
       "    </tr>\n",
       "    <tr>\n",
       "      <th>2</th>\n",
       "      <td>24</td>\n",
       "      <td>In Review</td>\n",
       "      <td>False</td>\n",
       "      <td>False</td>\n",
       "      <td>Auto</td>\n",
       "      <td>6</td>\n",
       "      <td>1741.32</td>\n",
       "      <td>36</td>\n",
       "      <td>92</td>\n",
       "    </tr>\n",
       "    <tr>\n",
       "      <th>3</th>\n",
       "      <td>31</td>\n",
       "      <td>Received</td>\n",
       "      <td>True</td>\n",
       "      <td>False</td>\n",
       "      <td>Auto</td>\n",
       "      <td>4</td>\n",
       "      <td>15224.30</td>\n",
       "      <td>94</td>\n",
       "      <td>133</td>\n",
       "    </tr>\n",
       "    <tr>\n",
       "      <th>4</th>\n",
       "      <td>14</td>\n",
       "      <td>Received</td>\n",
       "      <td>False</td>\n",
       "      <td>True</td>\n",
       "      <td>Auto</td>\n",
       "      <td>8</td>\n",
       "      <td>6542.46</td>\n",
       "      <td>92</td>\n",
       "      <td>39</td>\n",
       "    </tr>\n",
       "    <tr>\n",
       "      <th>5</th>\n",
       "      <td>30</td>\n",
       "      <td>Closed</td>\n",
       "      <td>False</td>\n",
       "      <td>False</td>\n",
       "      <td>Auto</td>\n",
       "      <td>1</td>\n",
       "      <td>979.81</td>\n",
       "      <td>86</td>\n",
       "      <td>103</td>\n",
       "    </tr>\n",
       "  </tbody>\n",
       "</table>\n",
       "</div>"
      ],
      "text/plain": [
       "    disaster_id     status  total_loss  loss_of_life  type  severity_rating  \\\n",
       "id                                                                            \n",
       "1            15   Received       False         False  Auto                4   \n",
       "2            24  In Review       False         False  Auto                6   \n",
       "3            31   Received        True         False  Auto                4   \n",
       "4            14   Received       False          True  Auto                8   \n",
       "5            30     Closed       False         False  Auto                1   \n",
       "\n",
       "    estimate_cost  agent_assigned_id  claim_handler_assigned_id  \n",
       "id                                                               \n",
       "1         3580.02                 97                         50  \n",
       "2         1741.32                 36                         92  \n",
       "3        15224.30                 94                        133  \n",
       "4         6542.46                 92                         39  \n",
       "5          979.81                 86                        103  "
      ]
     },
     "execution_count": 33,
     "metadata": {},
     "output_type": "execute_result"
    }
   ],
   "source": [
    "claims.head()"
   ]
  },
  {
   "cell_type": "code",
   "execution_count": 34,
   "metadata": {},
   "outputs": [
    {
     "data": {
      "text/plain": [
       "first_name    156\n",
       "last_name     156\n",
       "dtype: int64"
      ]
     },
     "execution_count": 34,
     "metadata": {},
     "output_type": "execute_result"
    }
   ],
   "source": [
    "claim_handlers.count() # count the number of each columns and missing values."
   ]
  },
  {
   "cell_type": "code",
   "execution_count": 35,
   "metadata": {},
   "outputs": [
    {
     "data": {
      "text/html": [
       "<div>\n",
       "<style scoped>\n",
       "    .dataframe tbody tr th:only-of-type {\n",
       "        vertical-align: middle;\n",
       "    }\n",
       "\n",
       "    .dataframe tbody tr th {\n",
       "        vertical-align: top;\n",
       "    }\n",
       "\n",
       "    .dataframe thead th {\n",
       "        text-align: right;\n",
       "    }\n",
       "</style>\n",
       "<table border=\"1\" class=\"dataframe\">\n",
       "  <thead>\n",
       "    <tr style=\"text-align: right;\">\n",
       "      <th></th>\n",
       "      <th>first_name</th>\n",
       "      <th>last_name</th>\n",
       "    </tr>\n",
       "    <tr>\n",
       "      <th>id</th>\n",
       "      <th></th>\n",
       "      <th></th>\n",
       "    </tr>\n",
       "  </thead>\n",
       "  <tbody>\n",
       "    <tr>\n",
       "      <th>1</th>\n",
       "      <td>Barnabe</td>\n",
       "      <td>Clynman</td>\n",
       "    </tr>\n",
       "    <tr>\n",
       "      <th>2</th>\n",
       "      <td>Valdemar</td>\n",
       "      <td>Size</td>\n",
       "    </tr>\n",
       "    <tr>\n",
       "      <th>3</th>\n",
       "      <td>Edithe</td>\n",
       "      <td>Bleakley</td>\n",
       "    </tr>\n",
       "    <tr>\n",
       "      <th>4</th>\n",
       "      <td>Sonja</td>\n",
       "      <td>Diamant</td>\n",
       "    </tr>\n",
       "    <tr>\n",
       "      <th>5</th>\n",
       "      <td>Elsey</td>\n",
       "      <td>Sreenan</td>\n",
       "    </tr>\n",
       "  </tbody>\n",
       "</table>\n",
       "</div>"
      ],
      "text/plain": [
       "   first_name last_name\n",
       "id                     \n",
       "1     Barnabe   Clynman\n",
       "2    Valdemar      Size\n",
       "3      Edithe  Bleakley\n",
       "4       Sonja   Diamant\n",
       "5       Elsey   Sreenan"
      ]
     },
     "execution_count": 35,
     "metadata": {},
     "output_type": "execute_result"
    }
   ],
   "source": [
    "claim_handlers.head()"
   ]
  },
  {
   "cell_type": "code",
   "execution_count": 36,
   "metadata": {},
   "outputs": [
    {
     "data": {
      "text/plain": [
       "type             100\n",
       "state            100\n",
       "name             100\n",
       "description      100\n",
       "start_date       100\n",
       "end_date         100\n",
       "declared_date    100\n",
       "lat              100\n",
       "long             100\n",
       "radius_miles     100\n",
       "dtype: int64"
      ]
     },
     "execution_count": 36,
     "metadata": {},
     "output_type": "execute_result"
    }
   ],
   "source": [
    "disasters.count() # count the number of each columns and missing values."
   ]
  },
  {
   "cell_type": "code",
   "execution_count": 37,
   "metadata": {},
   "outputs": [
    {
     "data": {
      "text/html": [
       "<div>\n",
       "<style scoped>\n",
       "    .dataframe tbody tr th:only-of-type {\n",
       "        vertical-align: middle;\n",
       "    }\n",
       "\n",
       "    .dataframe tbody tr th {\n",
       "        vertical-align: top;\n",
       "    }\n",
       "\n",
       "    .dataframe thead th {\n",
       "        text-align: right;\n",
       "    }\n",
       "</style>\n",
       "<table border=\"1\" class=\"dataframe\">\n",
       "  <thead>\n",
       "    <tr style=\"text-align: right;\">\n",
       "      <th></th>\n",
       "      <th>type</th>\n",
       "      <th>state</th>\n",
       "      <th>name</th>\n",
       "      <th>description</th>\n",
       "      <th>start_date</th>\n",
       "      <th>end_date</th>\n",
       "      <th>declared_date</th>\n",
       "      <th>lat</th>\n",
       "      <th>long</th>\n",
       "      <th>radius_miles</th>\n",
       "    </tr>\n",
       "    <tr>\n",
       "      <th>id</th>\n",
       "      <th></th>\n",
       "      <th></th>\n",
       "      <th></th>\n",
       "      <th></th>\n",
       "      <th></th>\n",
       "      <th></th>\n",
       "      <th></th>\n",
       "      <th></th>\n",
       "      <th></th>\n",
       "      <th></th>\n",
       "    </tr>\n",
       "  </thead>\n",
       "  <tbody>\n",
       "    <tr>\n",
       "      <th>1</th>\n",
       "      <td>Flood</td>\n",
       "      <td>Alaska</td>\n",
       "      <td>Alaska Flood</td>\n",
       "      <td>Fusce consequat. Nulla nisl. Nunc nisl.\\n\\nDui...</td>\n",
       "      <td>2023-06-13</td>\n",
       "      <td>2023-06-20</td>\n",
       "      <td>2023-06-17</td>\n",
       "      <td>58.3271</td>\n",
       "      <td>-134.4742</td>\n",
       "      <td>168</td>\n",
       "    </tr>\n",
       "    <tr>\n",
       "      <th>2</th>\n",
       "      <td>Wildfire</td>\n",
       "      <td>Texas</td>\n",
       "      <td>Texas Wildfire</td>\n",
       "      <td>Duis consequat dui nec nisi volutpat eleifend....</td>\n",
       "      <td>2023-04-11</td>\n",
       "      <td>2023-04-19</td>\n",
       "      <td>2023-04-12</td>\n",
       "      <td>33.5693</td>\n",
       "      <td>-101.8904</td>\n",
       "      <td>235</td>\n",
       "    </tr>\n",
       "    <tr>\n",
       "      <th>3</th>\n",
       "      <td>Tornado</td>\n",
       "      <td>Virginia</td>\n",
       "      <td>Virginia Tornado</td>\n",
       "      <td>Nullam sit amet turpis elementum ligula vehicu...</td>\n",
       "      <td>2023-04-29</td>\n",
       "      <td>2023-05-07</td>\n",
       "      <td>2023-05-06</td>\n",
       "      <td>38.9776</td>\n",
       "      <td>-77.3860</td>\n",
       "      <td>273</td>\n",
       "    </tr>\n",
       "    <tr>\n",
       "      <th>4</th>\n",
       "      <td>Earthquake</td>\n",
       "      <td>Connecticut</td>\n",
       "      <td>Connecticut Earthquake</td>\n",
       "      <td>Fusce consequat. Nulla nisl. Nunc nisl.</td>\n",
       "      <td>2023-04-24</td>\n",
       "      <td>2023-05-09</td>\n",
       "      <td>2023-04-28</td>\n",
       "      <td>41.3657</td>\n",
       "      <td>-72.9275</td>\n",
       "      <td>120</td>\n",
       "    </tr>\n",
       "    <tr>\n",
       "      <th>5</th>\n",
       "      <td>Winter Storm</td>\n",
       "      <td>Missouri</td>\n",
       "      <td>Missouri Winter Storm</td>\n",
       "      <td>Suspendisse potenti. In eleifend quam a odio. ...</td>\n",
       "      <td>2023-03-11</td>\n",
       "      <td>2023-03-21</td>\n",
       "      <td>2023-03-14</td>\n",
       "      <td>39.0663</td>\n",
       "      <td>-94.5674</td>\n",
       "      <td>155</td>\n",
       "    </tr>\n",
       "  </tbody>\n",
       "</table>\n",
       "</div>"
      ],
      "text/plain": [
       "            type        state                    name  \\\n",
       "id                                                      \n",
       "1          Flood       Alaska            Alaska Flood   \n",
       "2       Wildfire        Texas          Texas Wildfire   \n",
       "3        Tornado     Virginia        Virginia Tornado   \n",
       "4     Earthquake  Connecticut  Connecticut Earthquake   \n",
       "5   Winter Storm     Missouri   Missouri Winter Storm   \n",
       "\n",
       "                                          description  start_date    end_date  \\\n",
       "id                                                                              \n",
       "1   Fusce consequat. Nulla nisl. Nunc nisl.\\n\\nDui...  2023-06-13  2023-06-20   \n",
       "2   Duis consequat dui nec nisi volutpat eleifend....  2023-04-11  2023-04-19   \n",
       "3   Nullam sit amet turpis elementum ligula vehicu...  2023-04-29  2023-05-07   \n",
       "4             Fusce consequat. Nulla nisl. Nunc nisl.  2023-04-24  2023-05-09   \n",
       "5   Suspendisse potenti. In eleifend quam a odio. ...  2023-03-11  2023-03-21   \n",
       "\n",
       "   declared_date      lat      long  radius_miles  \n",
       "id                                                 \n",
       "1     2023-06-17  58.3271 -134.4742           168  \n",
       "2     2023-04-12  33.5693 -101.8904           235  \n",
       "3     2023-05-06  38.9776  -77.3860           273  \n",
       "4     2023-04-28  41.3657  -72.9275           120  \n",
       "5     2023-03-14  39.0663  -94.5674           155  "
      ]
     },
     "execution_count": 37,
     "metadata": {},
     "output_type": "execute_result"
    }
   ],
   "source": [
    "disasters.head()"
   ]
  },
  {
   "cell_type": "markdown",
   "metadata": {},
   "source": [
    "---"
   ]
  },
  {
   "cell_type": "markdown",
   "metadata": {},
   "source": [
    "### Find some insight from the dataset"
   ]
  },
  {
   "cell_type": "code",
   "execution_count": 38,
   "metadata": {},
   "outputs": [],
   "source": [
    "# Create a SimpleDataTool object for use calculation functions inside the class\n",
    "data = SimpleDataTool()"
   ]
  },
  {
   "cell_type": "markdown",
   "metadata": {},
   "source": [
    "##### Find Regional Disaster Counts #####"
   ]
  },
  {
   "cell_type": "code",
   "execution_count": 39,
   "metadata": {},
   "outputs": [],
   "source": [
    "# Get the total number of disaster occurrend in the simulation\n",
    "regional_disaster_map = data.get_regional_disaster_map()"
   ]
  },
  {
   "cell_type": "code",
   "execution_count": 40,
   "metadata": {},
   "outputs": [
    {
     "name": "stdout",
     "output_type": "stream",
     "text": [
      "           Count\n",
      "Region          \n",
      "south         36\n",
      "midwest       25\n",
      "northeast     20\n",
      "west          19\n"
     ]
    }
   ],
   "source": [
    "# Initialize lists to store the data\n",
    "disaster_regions = []\n",
    "disaster_types = []\n",
    "disaster_counts = []\n",
    "\n",
    "# Populate the lists with data\n",
    "for region, disasters in regional_disaster_map.items():\n",
    "    for disaster_type, count in disasters.items():\n",
    "        disaster_regions.append(region)\n",
    "        disaster_types.append(disaster_type)\n",
    "        disaster_counts.append(count)\n",
    "\n",
    "# Create a DataFrame\n",
    "disaster_map = pd.DataFrame({\n",
    "    'Region': disaster_regions,\n",
    "    'Disaster Type': disaster_types,\n",
    "    'Count': disaster_counts\n",
    "})\n",
    "\n",
    "# Print the sum of the disaster regionally.\n",
    "print(disaster_map.groupby(['Region']).sum().sort_values(by='Count', ascending=False))"
   ]
  },
  {
   "cell_type": "code",
   "execution_count": 41,
   "metadata": {},
   "outputs": [
    {
     "data": {
      "image/png": "[encoded data removed]",
      "text/plain": [
       "<Figure size 1000x600 with 1 Axes>"
      ]
     },
     "metadata": {},
     "output_type": "display_data"
    }
   ],
   "source": [
    "plt.figure(figsize=(10,6))\n",
    "sns.barplot(x='Region', y='Count', hue='Disaster Type', data=disaster_map, errorbar=None, palette='muted')\n",
    "plt.title('Count of Each Disaster by Region')\n",
    "plt.ylabel('Count')\n",
    "plt.xlabel('Region')\n",
    "plt.legend(title='Disaster Type', bbox_to_anchor=(1.05, 1), loc='upper left')\n",
    "plt.show()"
   ]
  },
  {
   "cell_type": "markdown",
   "metadata": {},
   "source": [
    "##### Find the number of claims by region #####"
   ]
  },
  {
   "cell_type": "code",
   "execution_count": 42,
   "metadata": {},
   "outputs": [],
   "source": [
    "regional_claim_map = data.get_total_claims_per_regional_disaster()"
   ]
  },
  {
   "cell_type": "code",
   "execution_count": 45,
   "metadata": {},
   "outputs": [
    {
     "name": "stdout",
     "output_type": "stream",
     "text": [
      "           Count\n",
      "Region          \n",
      "south        328\n",
      "midwest      240\n",
      "west         224\n",
      "northeast    208\n"
     ]
    }
   ],
   "source": [
    "# Initialize lists to store the data\n",
    "claim_map_regions = []\n",
    "claim_map_state = []\n",
    "claim_map_counts = []\n",
    "\n",
    "# Populate the lists with data\n",
    "for region, state in regional_claim_map.items():\n",
    "    for state_name, count in state.items():\n",
    "        claim_map_regions.append(region)\n",
    "        claim_map_state.append(state_name)\n",
    "        claim_map_counts.append(count)\n",
    "\n",
    "# Create a DataFrame\n",
    "claim_map = pd.DataFrame({\n",
    "    'Region': claim_map_regions,\n",
    "    'Disaster Type': claim_map_state,\n",
    "    'Count': claim_map_counts\n",
    "})\n",
    "\n",
    "\n",
    "# Print the sum of the disaster regionally.\n",
    "total_claim_map = claim_map.groupby(['Region']).sum().sort_values(by='Count', ascending=False)\n",
    "print(total_claim_map)"
   ]
  },
  {
   "cell_type": "code",
   "execution_count": 51,
   "metadata": {},
   "outputs": [
    {
     "data": {
      "image/png": "[encoded data removed]",
      "text/plain": [
       "<Figure size 1000x600 with 1 Axes>"
      ]
     },
     "metadata": {},
     "output_type": "display_data"
    }
   ],
   "source": [
    "plt.figure(figsize=(10,6))\n",
    "sns.barplot(x='Region', y='Count', data=total_claim_map, legend=False, palette='muted', hue='Region')\n",
    "\n",
    "plt.title('Total Count of Claims by Region')\n",
    "plt.ylabel('Count')\n",
    "plt.xlabel('Region')\n",
    "\n",
    "plt.show()"
   ]
  },
  {
   "cell_type": "code",
   "execution_count": null,
   "metadata": {},
   "outputs": [],
   "source": []
  }
 ],
 "metadata": {
  "kernelspec": {
   "display_name": "Python 3",
   "language": "python",
   "name": "python3"
  },
  "language_info": {
   "codemirror_mode": {
    "name": "ipython",
    "version": 3
   },
   "file_extension": ".py",
   "mimetype": "text/x-python",
   "name": "python",
   "nbconvert_exporter": "python",
   "pygments_lexer": "ipython3",
   "version": "3.10.9"
  }
 },
 "nbformat": 4,
 "nbformat_minor": 2
}
